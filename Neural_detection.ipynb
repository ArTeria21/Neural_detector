{
  "cells": [
    {
      "cell_type": "code",
      "execution_count": 1,
      "metadata": {
        "id": "HpWjJyk3hmQj"
      },
      "outputs": [],
      "source": [
        "%tensorflow_version 2.x\n",
        "from tensorflow.keras.models import Sequential\n",
        "from tensorflow.keras.layers import Dense, Embedding, Conv1D, MaxPooling1D, Flatten, LSTM, GRU\n",
        "from tensorflow.keras import utils\n",
        "from tensorflow.keras.preprocessing.sequence import pad_sequences\n",
        "from tensorflow.keras.preprocessing.text import Tokenizer\n",
        "from tensorflow.keras.callbacks import ModelCheckpoint\n",
        "from tensorflow.keras import utils\n",
        "from sklearn.model_selection import train_test_split\n",
        "import pandas as pd\n",
        "import numpy as np\n",
        "import matplotlib.pyplot as plt\n",
        "%matplotlib inline "
      ]
    },
    {
      "cell_type": "code",
      "execution_count": 2,
      "metadata": {
        "id": "RxYQ0ehbU0vZ"
      },
      "outputs": [],
      "source": [
        "from random import randint"
      ]
    },
    {
      "cell_type": "markdown",
      "metadata": {
        "id": "hWMEedugL7jr"
      },
      "source": [
        "##Создание датасета с синтезированными текстами\n"
      ]
    },
    {
      "cell_type": "code",
      "execution_count": null,
      "metadata": {
        "id": "ShhbyfLRKOcC"
      },
      "outputs": [],
      "source": [
        "Ai_texts1 = pd.read_csv('Ai_texts.csv')"
      ]
    },
    {
      "cell_type": "code",
      "execution_count": null,
      "metadata": {
        "id": "LhJOLFqhJGCS"
      },
      "outputs": [],
      "source": [
        "Ai_text = []"
      ]
    },
    {
      "cell_type": "code",
      "execution_count": null,
      "metadata": {
        "id": "EGpapnxnI1nP"
      },
      "outputs": [],
      "source": [
        "for s in Ai_texts1['Текст']:\n",
        "  s = s.replace(\"\\n\", \"\")\n",
        "  Ai_text.append(s)"
      ]
    },
    {
      "cell_type": "code",
      "execution_count": null,
      "metadata": {
        "id": "tLhmRsu8KYx0"
      },
      "outputs": [],
      "source": [
        "Ai_texts2 = pd.read_csv('AI_Texts2.csv')"
      ]
    },
    {
      "cell_type": "code",
      "execution_count": null,
      "metadata": {
        "id": "misK99fQKpsh"
      },
      "outputs": [],
      "source": [
        "for s in Ai_texts2['Текст']:\n",
        "  s = s.replace(\"\\n\", \"\")\n",
        "  Ai_text.append(s)"
      ]
    },
    {
      "cell_type": "code",
      "execution_count": null,
      "metadata": {
        "colab": {
          "base_uri": "https://localhost:8080/"
        },
        "id": "qxT2qkS7Kskk",
        "outputId": "233a7589-f2e8-48ae-fd24-3b44031cb9e7"
      },
      "outputs": [
        {
          "data": {
            "text/plain": [
              "14506"
            ]
          },
          "execution_count": 8,
          "metadata": {},
          "output_type": "execute_result"
        }
      ],
      "source": [
        "len(Ai_text)"
      ]
    },
    {
      "cell_type": "code",
      "execution_count": null,
      "metadata": {
        "id": "yblxF97eLXZr"
      },
      "outputs": [],
      "source": [
        "Zero = []\n",
        "for i in range(len(Ai_text)):\n",
        "  Zero.append(0)"
      ]
    },
    {
      "cell_type": "code",
      "execution_count": null,
      "metadata": {
        "id": "k_OwBusULkxN"
      },
      "outputs": [],
      "source": [
        "df1 = pd.DataFrame({\"Текст\":Ai_text, \"Автор\":Zero})"
      ]
    },
    {
      "cell_type": "markdown",
      "metadata": {
        "id": "x34VvtDJMDvD"
      },
      "source": [
        "##Создание датасета с естественными текстами"
      ]
    },
    {
      "cell_type": "code",
      "execution_count": null,
      "metadata": {
        "id": "lUKimszpTuMz"
      },
      "outputs": [],
      "source": [
        "def check(t):\n",
        "    t = str.lower(t)\n",
        "    count = 0\n",
        "    bad_lst = [\"\\\\\", \"//\", \"/\", \"@\", \"\\\\n\", \"[\", \"]\", \"(\", \")\", \"a\", \"i\", \"e\"]\n",
        "    if len(t) >= 100:\n",
        "        count += 1\n",
        "    for i in bad_lst:\n",
        "        if i not in t:\n",
        "            count += 1\n",
        "    if count == len(bad_lst) + 1:\n",
        "        return True\n",
        "    else:\n",
        "        return False"
      ]
    },
    {
      "cell_type": "code",
      "execution_count": null,
      "metadata": {
        "id": "mXMm3H7HMIfB"
      },
      "outputs": [],
      "source": [
        "file = open('All_texts.txt', \"r\")"
      ]
    },
    {
      "cell_type": "code",
      "execution_count": null,
      "metadata": {
        "id": "F59Y5e9aUApP"
      },
      "outputs": [],
      "source": [
        "texts = []"
      ]
    },
    {
      "cell_type": "code",
      "execution_count": null,
      "metadata": {
        "id": "fZZEjsI8TazD"
      },
      "outputs": [],
      "source": [
        "for line in file:\n",
        "  line = line.replace(u'\\xa0',' ')\n",
        "  line = line.replace(u\"\\n\", \"\")\n",
        "  texts.append(line)"
      ]
    },
    {
      "cell_type": "code",
      "execution_count": null,
      "metadata": {
        "colab": {
          "base_uri": "https://localhost:8080/"
        },
        "id": "4ZXBbRtDUeee",
        "outputId": "eb107ace-57de-40dc-91af-ee7a5a3f9c64"
      },
      "outputs": [
        {
          "data": {
            "text/plain": [
              "201271"
            ]
          },
          "execution_count": 15,
          "metadata": {},
          "output_type": "execute_result"
        }
      ],
      "source": [
        "len(texts)"
      ]
    },
    {
      "cell_type": "code",
      "execution_count": null,
      "metadata": {
        "id": "KKXuQEuRUsth"
      },
      "outputs": [],
      "source": [
        "human = []\n",
        "while len(human) != 25000:\n",
        "    n = randint(0, 201270)\n",
        "    s = texts[n]\n",
        "    if check(s):\n",
        "      human.append(s)"
      ]
    },
    {
      "cell_type": "code",
      "execution_count": null,
      "metadata": {
        "id": "uz0950J0WLrj"
      },
      "outputs": [],
      "source": [
        "ones = []\n",
        "for _ in range(len(human)):\n",
        "  ones.append(1)"
      ]
    },
    {
      "cell_type": "code",
      "execution_count": null,
      "metadata": {
        "id": "9_EMj_wNWeiH"
      },
      "outputs": [],
      "source": [
        "df2 = pd.DataFrame({'Текст':human, 'Автор':ones})"
      ]
    },
    {
      "cell_type": "code",
      "execution_count": null,
      "metadata": {
        "colab": {
          "base_uri": "https://localhost:8080/",
          "height": 423
        },
        "id": "VR1eiNfJXBNS",
        "outputId": "b663945c-d21c-4316-d9c1-7edd47e06318"
      },
      "outputs": [
        {
          "data": {
            "text/html": [
              "\n",
              "  <div id=\"df-6dc2d5bb-443b-4376-95d6-f7df32cbf380\">\n",
              "    <div class=\"colab-df-container\">\n",
              "      <div>\n",
              "<style scoped>\n",
              "    .dataframe tbody tr th:only-of-type {\n",
              "        vertical-align: middle;\n",
              "    }\n",
              "\n",
              "    .dataframe tbody tr th {\n",
              "        vertical-align: top;\n",
              "    }\n",
              "\n",
              "    .dataframe thead th {\n",
              "        text-align: right;\n",
              "    }\n",
              "</style>\n",
              "<table border=\"1\" class=\"dataframe\">\n",
              "  <thead>\n",
              "    <tr style=\"text-align: right;\">\n",
              "      <th></th>\n",
              "      <th>Текст</th>\n",
              "      <th>Автор</th>\n",
              "    </tr>\n",
              "  </thead>\n",
              "  <tbody>\n",
              "    <tr>\n",
              "      <th>13677</th>\n",
              "      <td>синильники, которые, как и все остальные, были...</td>\n",
              "      <td>0</td>\n",
              "    </tr>\n",
              "    <tr>\n",
              "      <th>4117</th>\n",
              "      <td>Господа взъерепенились, еще больше сулят, а су...</td>\n",
              "      <td>1</td>\n",
              "    </tr>\n",
              "    <tr>\n",
              "      <th>16940</th>\n",
              "      <td>– Ну, в таком разе и прекрасно, а то я думал, ...</td>\n",
              "      <td>1</td>\n",
              "    </tr>\n",
              "    <tr>\n",
              "      <th>6903</th>\n",
              "      <td>Еще история про коров. Когда Нью-Йорк расширял...</td>\n",
              "      <td>1</td>\n",
              "    </tr>\n",
              "    <tr>\n",
              "      <th>11586</th>\n",
              "      <td>естествоведы, археологи, историки, философы, п...</td>\n",
              "      <td>0</td>\n",
              "    </tr>\n",
              "    <tr>\n",
              "      <th>...</th>\n",
              "      <td>...</td>\n",
              "      <td>...</td>\n",
              "    </tr>\n",
              "    <tr>\n",
              "      <th>14268</th>\n",
              "      <td>подматывание» к нему.– А что, если я не смогу?...</td>\n",
              "      <td>0</td>\n",
              "    </tr>\n",
              "    <tr>\n",
              "      <th>330</th>\n",
              "      <td>– Точно, так и было все! – подтвердил Вася. – ...</td>\n",
              "      <td>1</td>\n",
              "    </tr>\n",
              "    <tr>\n",
              "      <th>20198</th>\n",
              "      <td>Издатели и редакторы заваливали его письмами: ...</td>\n",
              "      <td>1</td>\n",
              "    </tr>\n",
              "    <tr>\n",
              "      <th>19023</th>\n",
              "      <td>8. Секта всегда стремится расширить свои круги...</td>\n",
              "      <td>1</td>\n",
              "    </tr>\n",
              "    <tr>\n",
              "      <th>3277</th>\n",
              "      <td>заседанием нашего клуба, посвященного дню рожд...</td>\n",
              "      <td>0</td>\n",
              "    </tr>\n",
              "  </tbody>\n",
              "</table>\n",
              "<p>39506 rows × 2 columns</p>\n",
              "</div>\n",
              "      <button class=\"colab-df-convert\" onclick=\"convertToInteractive('df-6dc2d5bb-443b-4376-95d6-f7df32cbf380')\"\n",
              "              title=\"Convert this dataframe to an interactive table.\"\n",
              "              style=\"display:none;\">\n",
              "        \n",
              "  <svg xmlns=\"http://www.w3.org/2000/svg\" height=\"24px\"viewBox=\"0 0 24 24\"\n",
              "       width=\"24px\">\n",
              "    <path d=\"M0 0h24v24H0V0z\" fill=\"none\"/>\n",
              "    <path d=\"M18.56 5.44l.94 2.06.94-2.06 2.06-.94-2.06-.94-.94-2.06-.94 2.06-2.06.94zm-11 1L8.5 8.5l.94-2.06 2.06-.94-2.06-.94L8.5 2.5l-.94 2.06-2.06.94zm10 10l.94 2.06.94-2.06 2.06-.94-2.06-.94-.94-2.06-.94 2.06-2.06.94z\"/><path d=\"M17.41 7.96l-1.37-1.37c-.4-.4-.92-.59-1.43-.59-.52 0-1.04.2-1.43.59L10.3 9.45l-7.72 7.72c-.78.78-.78 2.05 0 2.83L4 21.41c.39.39.9.59 1.41.59.51 0 1.02-.2 1.41-.59l7.78-7.78 2.81-2.81c.8-.78.8-2.07 0-2.86zM5.41 20L4 18.59l7.72-7.72 1.47 1.35L5.41 20z\"/>\n",
              "  </svg>\n",
              "      </button>\n",
              "      \n",
              "  <style>\n",
              "    .colab-df-container {\n",
              "      display:flex;\n",
              "      flex-wrap:wrap;\n",
              "      gap: 12px;\n",
              "    }\n",
              "\n",
              "    .colab-df-convert {\n",
              "      background-color: #E8F0FE;\n",
              "      border: none;\n",
              "      border-radius: 50%;\n",
              "      cursor: pointer;\n",
              "      display: none;\n",
              "      fill: #1967D2;\n",
              "      height: 32px;\n",
              "      padding: 0 0 0 0;\n",
              "      width: 32px;\n",
              "    }\n",
              "\n",
              "    .colab-df-convert:hover {\n",
              "      background-color: #E2EBFA;\n",
              "      box-shadow: 0px 1px 2px rgba(60, 64, 67, 0.3), 0px 1px 3px 1px rgba(60, 64, 67, 0.15);\n",
              "      fill: #174EA6;\n",
              "    }\n",
              "\n",
              "    [theme=dark] .colab-df-convert {\n",
              "      background-color: #3B4455;\n",
              "      fill: #D2E3FC;\n",
              "    }\n",
              "\n",
              "    [theme=dark] .colab-df-convert:hover {\n",
              "      background-color: #434B5C;\n",
              "      box-shadow: 0px 1px 3px 1px rgba(0, 0, 0, 0.15);\n",
              "      filter: drop-shadow(0px 1px 2px rgba(0, 0, 0, 0.3));\n",
              "      fill: #FFFFFF;\n",
              "    }\n",
              "  </style>\n",
              "\n",
              "      <script>\n",
              "        const buttonEl =\n",
              "          document.querySelector('#df-6dc2d5bb-443b-4376-95d6-f7df32cbf380 button.colab-df-convert');\n",
              "        buttonEl.style.display =\n",
              "          google.colab.kernel.accessAllowed ? 'block' : 'none';\n",
              "\n",
              "        async function convertToInteractive(key) {\n",
              "          const element = document.querySelector('#df-6dc2d5bb-443b-4376-95d6-f7df32cbf380');\n",
              "          const dataTable =\n",
              "            await google.colab.kernel.invokeFunction('convertToInteractive',\n",
              "                                                     [key], {});\n",
              "          if (!dataTable) return;\n",
              "\n",
              "          const docLinkHtml = 'Like what you see? Visit the ' +\n",
              "            '<a target=\"_blank\" href=https://colab.research.google.com/notebooks/data_table.ipynb>data table notebook</a>'\n",
              "            + ' to learn more about interactive tables.';\n",
              "          element.innerHTML = '';\n",
              "          dataTable['output_type'] = 'display_data';\n",
              "          await google.colab.output.renderOutput(dataTable, element);\n",
              "          const docLink = document.createElement('div');\n",
              "          docLink.innerHTML = docLinkHtml;\n",
              "          element.appendChild(docLink);\n",
              "        }\n",
              "      </script>\n",
              "    </div>\n",
              "  </div>\n",
              "  "
            ],
            "text/plain": [
              "                                                   Текст  Автор\n",
              "13677  синильники, которые, как и все остальные, были...      0\n",
              "4117   Господа взъерепенились, еще больше сулят, а су...      1\n",
              "16940  – Ну, в таком разе и прекрасно, а то я думал, ...      1\n",
              "6903   Еще история про коров. Когда Нью-Йорк расширял...      1\n",
              "11586  естествоведы, археологи, историки, философы, п...      0\n",
              "...                                                  ...    ...\n",
              "14268  подматывание» к нему.– А что, если я не смогу?...      0\n",
              "330    – Точно, так и было все! – подтвердил Вася. – ...      1\n",
              "20198  Издатели и редакторы заваливали его письмами: ...      1\n",
              "19023  8. Секта всегда стремится расширить свои круги...      1\n",
              "3277   заседанием нашего клуба, посвященного дню рожд...      0\n",
              "\n",
              "[39506 rows x 2 columns]"
            ]
          },
          "execution_count": 19,
          "metadata": {},
          "output_type": "execute_result"
        }
      ],
      "source": [
        "data = pd.concat([df1, df2], axis = 0)\n",
        "data = data.sample(frac=1)\n",
        "data"
      ]
    },
    {
      "cell_type": "markdown",
      "metadata": {
        "id": "nrnDZ2BcYXF2"
      },
      "source": [
        "##Токенизация"
      ]
    },
    {
      "cell_type": "code",
      "execution_count": 3,
      "metadata": {
        "id": "f-kPAQh8aG_5"
      },
      "outputs": [],
      "source": [
        "num_words = 999999999\n",
        "max_len = 100"
      ]
    },
    {
      "cell_type": "code",
      "execution_count": null,
      "metadata": {
        "id": "TRLv9sv-YWIF"
      },
      "outputs": [],
      "source": [
        "tokenizer = Tokenizer(num_words=num_words)"
      ]
    },
    {
      "cell_type": "code",
      "execution_count": null,
      "metadata": {
        "id": "2AT-UZmeYgyj"
      },
      "outputs": [],
      "source": [
        "tokenizer.fit_on_texts(data['Текст'])"
      ]
    },
    {
      "cell_type": "code",
      "execution_count": null,
      "metadata": {
        "id": "adpGrsSdYnqQ"
      },
      "outputs": [],
      "source": [
        "x_train = data['Текст'][0:35000]\n",
        "x_test = data['Текст'][35001:39505]\n",
        "y_train = data['Автор'][0:35000]\n",
        "y_test = data['Автор'][35001:39505]"
      ]
    },
    {
      "cell_type": "code",
      "execution_count": null,
      "metadata": {
        "id": "AvTspRFBZiMR"
      },
      "outputs": [],
      "source": [
        "seq_train = tokenizer.texts_to_sequences(x_train)\n",
        "seq_test = tokenizer.texts_to_sequences(x_test)"
      ]
    },
    {
      "cell_type": "code",
      "execution_count": null,
      "metadata": {
        "id": "xqUiIfI8ZxD6"
      },
      "outputs": [],
      "source": [
        "x_train = pad_sequences(seq_train, maxlen=max_len)\n",
        "x_test = pad_sequences(seq_test, maxlen=max_len)"
      ]
    },
    {
      "cell_type": "markdown",
      "metadata": {
        "id": "ncmxMvA9ardz"
      },
      "source": [
        "##Создание модели"
      ]
    },
    {
      "cell_type": "code",
      "execution_count": null,
      "metadata": {
        "id": "JK-bxnVCajT2"
      },
      "outputs": [],
      "source": [
        "def build_LSTM(len, boxes, optimizer):\n",
        "  model = Sequential()\n",
        "  model.add(Embedding(num_words, len, input_length=max_len))\n",
        "  model.add(LSTM(boxes))\n",
        "  model.add(Dense(1, \"sigmoid\"))\n",
        "  model.compile(optimizer=optimizer, \n",
        "                loss='binary_crossentropy', \n",
        "                metrics=['accuracy'])\n",
        "  return model"
      ]
    },
    {
      "cell_type": "code",
      "execution_count": null,
      "metadata": {
        "id": "cZUue75Kb-aM"
      },
      "outputs": [],
      "source": [
        "LSTM = Sequential()\n",
        "LSTM.add(Embedding(num_words, 32, input_length=max_len))\n",
        "LSTM.add(LSTM(64))\n",
        "LSTM.add(Dense(1, \"sigmoid\"))\n",
        "LSTM.compile(optimizer=\"rmsprop\", loss='binary_crossentropy', metrics=['accuracy'])"
      ]
    }
  ],
  "metadata": {
    "colab": {
      "collapsed_sections": [
        "hWMEedugL7jr"
      ],
      "name": "Neural_detection.ipynb",
      "provenance": []
    },
    "kernelspec": {
      "display_name": "Python 3",
      "name": "python3"
    },
    "language_info": {
      "name": "python"
    }
  },
  "nbformat": 4,
  "nbformat_minor": 0
}
